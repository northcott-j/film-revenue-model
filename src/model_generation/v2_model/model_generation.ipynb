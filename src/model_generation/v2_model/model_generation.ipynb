{
 "cells": [
  {
   "cell_type": "code",
   "execution_count": null,
   "metadata": {},
   "outputs": [],
   "source": [
    "# Data Description\n",
    "\"\"\"\n",
    "Films and Actors were scraped from IMDB (14k Films & 350k Actors)\n",
    "Those two Collections were combined into a single object type (film_agg)\n",
    "Some aggregations failed leaving a dataset of 13.6k films.\n",
    "Filtered out Films shorter than 30mins to avoid outlier short films.\n",
    "Filtered out Films that there wasn't a budget for.\n",
    "Filtered out Films that there wasn't a revenue for.\n",
    "Remaining dataset has 6991 Films\n",
    "\"\"\"\n",
    "\n",
    "\"\"\"\n",
    "Not standardizing day, weekday, month features but treating them as\n",
    "continuous for model simplicity\n",
    "\"\"\""
   ]
  },
  {
   "cell_type": "code",
   "execution_count": 299,
   "metadata": {},
   "outputs": [],
   "source": [
    "CONT_FEATURES = [\n",
    "    \"max_director_film_votes\",\n",
    "    \"director_age\",\n",
    "    \"max_director_film_metascore\",\n",
    "    \"max_actor_film_votes\",\n",
    "    \"max_director_film_revenue\",\n",
    "    \"max_actor_film_stars\",\n",
    "    \"avg_director_film_votes\",\n",
    "    \"max_actor_film_metascore\",\n",
    "    \"avg_director_film_metascore\",\n",
    "    \"avg_actor_age\",\n",
    "    \"max_actor_film_appearances\",\n",
    "    \"avg_actor_film_votes\",\n",
    "    \"avg_actor_film_stars\",\n",
    "    \"avg_actor_film_revenue\",\n",
    "    \"avg_actor_film_appearances\",\n",
    "    \"director_number_of_films\",\n",
    "    \"budget\",\n",
    "    \"length\",\n",
    "    \"avg_actor_film_metascore\",\n",
    "    \"max_actor_film_revenue\",\n",
    "    \"max_director_film_stars\",\n",
    "    \"avg_director_film_revenue\",\n",
    "    \"avg_director_film_stars\",\n",
    "]\n",
    "\n",
    "CLASS_FEATURES = [\n",
    "    \"day\",\n",
    "    \"weekday\",\n",
    "    \"month\"\n",
    "]\n",
    "\n",
    "X_FEATURES = CONT_FEATURES + CLASS_FEATURES\n",
    "\n",
    "Y_FEATURE = 'revenue'\n",
    "Y_CLASS = 'revenue_class'\n",
    "ID_FEATURE = 'id'\n",
    "\n",
    "FEATURES = X_FEATURES + [Y_FEATURE, Y_CLASS, ID_FEATURE, 'profitable']\n",
    "\n",
    "MONGO_COLUMNS = X_FEATURES + [ID_FEATURE, Y_FEATURE]\n",
    "IMPUTED_FEATURES = [\n",
    "    \"max_director_film_votes\",\n",
    "    \"max_director_film_metascore\",\n",
    "    \"max_actor_film_votes\",\n",
    "    \"max_director_film_revenue\",\n",
    "    \"max_actor_film_stars\",\n",
    "    \"avg_director_film_votes\",\n",
    "    \"max_actor_film_metascore\",\n",
    "    \"avg_director_film_metascore\",\n",
    "    \"avg_actor_age\",\n",
    "    \"max_actor_film_appearances\",\n",
    "    \"avg_actor_film_votes\",\n",
    "    \"avg_actor_film_stars\",\n",
    "    \"avg_actor_film_revenue\",\n",
    "    \"avg_actor_film_appearances\",\n",
    "    \"director_number_of_films\",\n",
    "    \"avg_actor_film_metascore\",\n",
    "    \"max_actor_film_revenue\",\n",
    "    \"max_director_film_stars\",\n",
    "    \"avg_director_film_revenue\",\n",
    "    \"avg_director_film_stars\"\n",
    "]\n",
    "\n",
    "def is_profitable(row):\n",
    "    return int(row['revenue']) - int(row['budget']) > 0\n",
    "\n",
    "def predict(model, test_data, threshold):\n",
    "    test_probs = model.predict_proba(test_data)\n",
    "    return [1 if p[1] >= threshold else 0 for p in test_probs]\n",
    "\n",
    "def print_predict_stats(actual, predicted):\n",
    "    confusion = metrics.confusion_matrix(actual, predicted)\n",
    "    true_positive = confusion[0][0]\n",
    "    false_positive = confusion[0][1]\n",
    "    true_negative = confusion[1][1]\n",
    "    false_negative = confusion[1][0]\n",
    "    print('Confusion Matrix')\n",
    "    print(\"TP: {0}, FP: {1}, TN: {2}, FN: {3}\".format(true_positive, false_positive, true_negative, false_negative))\n",
    "    print(confusion)\n",
    "    accuracy = float(true_positive + true_negative) / len(actual)\n",
    "    error = 1 - accuracy\n",
    "    print(\"Accuracy: {0}, Error: {1}\".format(accuracy, error))\n",
    "    precision = float(true_positive) / (true_positive + false_positive)\n",
    "    recall = float(true_positive) / (true_positive + false_negative)\n",
    "    f_one = 2 * float(precision * recall) / (precision + recall)\n",
    "    print(\"Precision: {0}, Recall: {1}, F1: {2}\".format(precision, recall, f_one))"
   ]
  },
  {
   "cell_type": "code",
   "execution_count": 327,
   "metadata": {},
   "outputs": [],
   "source": [
    "# Setting up environment\n",
    "import pymongo\n",
    "import pandas\n",
    "import numpy\n",
    "import os\n",
    "from sklearn.model_selection import train_test_split\n",
    "from sklearn.feature_selection import RFE\n",
    "from sklearn.preprocessing import StandardScaler, LabelEncoder\n",
    "from sklearn.linear_model import LogisticRegression\n",
    "from sklearn.svm import SVC\n",
    "from sklearn.ensemble import RandomForestClassifier\n",
    "from sklearn import metrics\n",
    "from matplotlib import pyplot\n",
    "from dotenv import load_dotenv\n",
    "\n",
    "# Loading environment variables from .env\n",
    "load_dotenv()\n",
    "mongo_db_host = os.environ['MONGO_DB_HOST']\n",
    "mongo_db_port = int(os.environ['MONGO_DB_PORT'])\n",
    "mongo_db_name = os.environ['MONGO_DB_NAME']\n",
    "mongo_db_user = os.environ['MONGO_DB_USER']\n",
    "mongo_db_pswd = os.environ['MONGO_DB_PSWD'] \n",
    "mongo_db_coll = os.environ['MONGO_DB_COLL']"
   ]
  },
  {
   "cell_type": "code",
   "execution_count": 35,
   "metadata": {},
   "outputs": [],
   "source": [
    "# Connecting to the database\n",
    "client = pymongo.MongoClient(\"mongodb://{0}:{1}@{2}:{3}/{4}\".format(mongo_db_user, mongo_db_pswd, mongo_db_host,\\\n",
    "                                                                    mongo_db_port, mongo_db_name))\n",
    "conn = client[mongo_db_name][mongo_db_coll]"
   ]
  },
  {
   "cell_type": "code",
   "execution_count": 90,
   "metadata": {},
   "outputs": [
    {
     "name": "stdout",
     "output_type": "stream",
     "text": [
      "13618 Films with Aggregated Stats that did not fail\n",
      "13412 Films >= 30mins\n",
      "6997 Films w/ a Scraped Budget\n",
      "6991 Films w/ a Revenue\n"
     ]
    }
   ],
   "source": [
    "# Initial Data Exploration\n",
    "num_not_failed = conn.count_documents({ 'FAILED': False })\n",
    "print(\"{0} Films with Aggregated Stats that did not fail\".format(num_not_failed))\n",
    "\n",
    "greater_than_30 = conn.count_documents({ 'FAILED': False, 'length': {'$gte': 30} })\n",
    "print(\"{0} Films >= 30mins\".format(greater_than_60))\n",
    "\n",
    "with_budget = conn.count_documents({ 'FAILED': False, 'length': {'$gte': 30}, 'budget': {'$gt': 0} })\n",
    "print(\"{0} Films w/ a Scraped Budget\".format(with_budget))\n",
    "\n",
    "with_revenue = conn.count_documents({ 'FAILED': False, 'length': {'$gte': 30}, 'budget': {'$gt': 0}, 'revenue': {'$gt': 0} })\n",
    "print(\"{0} Films w/ a Revenue\".format(with_revenue))"
   ]
  },
  {
   "cell_type": "code",
   "execution_count": 119,
   "metadata": {},
   "outputs": [],
   "source": [
    "# Get data into a pandas dataframe\n",
    "mongo_films = conn.aggregate(\n",
    "    [\n",
    "        { '$match': { 'FAILED': False, 'length': {'$gte': 30}, 'budget': {'$gt': 0}, 'revenue': {'$gt': 0} } },\n",
    "        { '$project': { field: 1 for field in MONGO_COLUMNS } }\n",
    "    ]\n",
    ")\n",
    "films_raw = pandas.DataFrame([f for f in mongo_films])"
   ]
  },
  {
   "cell_type": "code",
   "execution_count": 304,
   "metadata": {},
   "outputs": [],
   "source": [
    "# Adjust some columns (prevents having to pull Mongo again on changes)\n",
    "films = films_raw.copy()\n",
    "profitable_films = [is_profitable(film) for index, film in films.iterrows()]\n",
    "films.drop(['_id'], axis=1, inplace=True)\n",
    "films['profitable'] = profitable_films"
   ]
  },
  {
   "cell_type": "code",
   "execution_count": 305,
   "metadata": {},
   "outputs": [
    {
     "name": "stdout",
     "output_type": "stream",
     "text": [
      "revenue Stats: Len: 6991, Max: 2787965087, Min: 30, Avg: 67714944.12659132, Median: 15008161.0\n",
      "max_director_film_votes Stats: Len: 6991, Max: 1883351, Min: 0, Avg: 101056.32713488772, Median: 5875.0\n",
      "director_age Stats: Len: 6991, Max: 103, Min: 0, Avg: 37.30052925189529, Median: 42.0\n",
      "max_director_film_metascore Stats: Len: 6991, Max: 100, Min: 0, Avg: 33.40351880989844, Median: 0.0\n",
      "max_actor_film_votes Stats: Len: 6991, Max: 1883351, Min: 0, Avg: 280391.32184236875, Median: 217534.0\n",
      "max_director_film_revenue Stats: Len: 6991, Max: 2187210904, Min: 0, Avg: 76314332.26090688, Median: 1826108.0\n",
      "max_actor_film_stars Stats: Len: 6991, Max: 9.3, Min: 0.0, Avg: 7.243216937988171, Median: 7.4\n",
      "avg_director_film_votes Stats: Len: 6991, Max: 1883351, Min: 0, Avg: 47342.99542268631, Median: 4581.0\n",
      "max_actor_film_metascore Stats: Len: 6991, Max: 100, Min: 0, Avg: 72.98326419682449, Median: 75.0\n",
      "avg_director_film_metascore Stats: Len: 6991, Max: 100, Min: 0, Avg: 29.213417250750965, Median: 0.0\n",
      "avg_actor_age Stats: Len: 6991, Max: 94, Min: 0, Avg: 39.9470748104706, Median: 40.0\n",
      "max_actor_film_appearances Stats: Len: 6991, Max: 108, Min: 0, Avg: 23.716778715491348, Median: 22.0\n",
      "avg_actor_film_votes Stats: Len: 6991, Max: 803240, Min: 0, Avg: 71350.81862394507, Median: 64747.0\n",
      "avg_actor_film_stars Stats: Len: 6991, Max: 8.6, Min: 0.0, Avg: 6.263635311770478, Median: 6.3704453122634925\n",
      "avg_actor_film_revenue Stats: Len: 6991, Max: 591325478, Min: 0, Avg: 62709406.947646976, Median: 54733542.0\n",
      "avg_actor_film_appearances Stats: Len: 6991, Max: 40, Min: 0, Avg: 6.598483764840509, Median: 6.0\n",
      "director_number_of_films Stats: Len: 6991, Max: 41, Min: 0, Avg: 2.536546988985839, Median: 1.0\n",
      "budget Stats: Len: 6991, Max: 30000000000, Min: 20, Avg: 42208044.60220283, Median: 15000000.0\n",
      "length Stats: Len: 6991, Max: 325, Min: 40, Avg: 107.1530539264769, Median: 103.0\n",
      "avg_actor_film_metascore Stats: Len: 6991, Max: 100, Min: 0, Avg: 55.01230153053926, Median: 56.0\n",
      "max_actor_film_revenue Stats: Len: 6991, Max: 2787965087, Min: 0, Avg: 247345717.53139752, Median: 181048955.0\n",
      "max_director_film_stars Stats: Len: 6991, Max: 9.3, Min: 0.0, Avg: 4.114718924331283, Median: 6.3\n",
      "avg_director_film_revenue Stats: Len: 6991, Max: 944861907, Min: 0, Avg: 35080249.300100125, Median: 1421706.0\n",
      "avg_director_film_stars Stats: Len: 6991, Max: 9.3, Min: 0.0, Avg: 3.815124461431413, Median: 5.9\n",
      "day Stats: Len: 6991, Max: 31, Min: 1, Avg: 16.116149334859106, Median: 16.0\n",
      "weekday Stats: Len: 6991, Max: 7, Min: 1, Avg: 4.672579030181662, Median: 5.0\n",
      "month Stats: Len: 6991, Max: 12, Min: 1, Avg: 6.689457874409956, Median: 7.0\n",
      "\n",
      "# Profitable: 3705 and # Not Profitable: 3286\n",
      "\n",
      "Printing stats for each chunk...\n",
      "revenue Stats: Len: 1399, Max: 530392, Min: 30, Avg: 119785.03859899928, Median: 54444.0\n",
      "# Profitable: 74 and # Not Profitable: 1325\n",
      "revenue Stats: Len: 1398, Max: 7454185, Min: 531997, Avg: 3087451.0536480686, Median: 2631257.0\n",
      "# Profitable: 324 and # Not Profitable: 1074\n",
      "revenue Stats: Len: 1398, Max: 26924656, Min: 7460797, Avg: 15748172.08297568, Median: 15011088.0\n",
      "# Profitable: 744 and # Not Profitable: 654\n",
      "revenue Stats: Len: 1398, Max: 89431890, Min: 26960191, Avg: 51501417.22532189, Median: 47927272.5\n",
      "# Profitable: 1180 and # Not Profitable: 218\n",
      "revenue Stats: Len: 1398, Max: 2787965087, Min: 89446268, Avg: 268166246.56223175, Median: 183221456.0\n",
      "# Profitable: 1383 and # Not Profitable: 15\n"
     ]
    }
   ],
   "source": [
    "# Deeper Data Exploration and Class Creation\n",
    "def max_min(df, feature):\n",
    "    return df[feature].max(), df[feature].min()\n",
    "\n",
    "def print_stats(df, feature):\n",
    "    max_revenue, min_revenue = max_min(df, feature)\n",
    "    avg_revenue = df[feature].mean()\n",
    "    med_revenue = df[feature].median()\n",
    "    print(\"{0} Stats: Len: {1}, Max: {2}, Min: {3}, Avg: {4}, Median: {5}\".format(feature, len(df), \\\n",
    "                                                                                  max_revenue, min_revenue, \\\n",
    "                                                                                  avg_revenue, med_revenue))\n",
    "\n",
    "## Revenue Stats\n",
    "print_stats(films, Y_FEATURE)\n",
    "\n",
    "## Printing stats for other features\n",
    "[print_stats(films, feature) for feature in X_FEATURES]\n",
    "print('')\n",
    "\n",
    "## Num Profitable/Not\n",
    "total_films = len(films)\n",
    "profitable_films = len(films.loc[films['profitable']])\n",
    "print(\"# Profitable: {0} and # Not Profitable: {1}\".format(profitable_films, total_films - profitable_films))\n",
    "\n",
    "## Exploring Probable Classes\n",
    "NUM_CLASSES = 5\n",
    "sorted_films = films.sort_values(Y_FEATURE)\n",
    "film_chunks = numpy.array_split(sorted_films, NUM_CLASSES)\n",
    "print('')\n",
    "print('Printing stats for each chunk...')\n",
    "REVENUE_CLASSES = {}\n",
    "for chunk in film_chunks:\n",
    "    print_stats(chunk, Y_FEATURE)\n",
    "    \n",
    "    total_films = len(chunk)\n",
    "    profitable_films = len(chunk.loc[chunk['profitable']])\n",
    "    print(\"# Profitable: {0} and # Not Profitable: {1}\".format(profitable_films, total_films - profitable_films))\n",
    "    \n",
    "    max_revenue, min_revenue = max_min(chunk, Y_FEATURE)\n",
    "    REVENUE_CLASSES[\"${0}-${1}\".format(min_revenue, max_revenue)] = (min_revenue, max_revenue)\n"
   ]
  },
  {
   "cell_type": "code",
   "execution_count": 306,
   "metadata": {},
   "outputs": [],
   "source": [
    "# Adding/Updating Classifier Column\n",
    "def find_revenue_class(row):\n",
    "    revenue = row[Y_FEATURE]\n",
    "    max_to_class = {REVENUE_CLASSES[classifier][1]: classifier for classifier in REVENUE_CLASSES}\n",
    "    max_revenues = sorted([REVENUE_CLASSES[classifier][1] for classifier in REVENUE_CLASSES])\n",
    "    for mr in max_revenues:\n",
    "        if revenue <= mr:\n",
    "            return max_to_class[mr]\n",
    "\n",
    "revenue_classes = [find_revenue_class(row) for index, row in films.iterrows()]\n",
    "films[Y_CLASS] = revenue_classes"
   ]
  },
  {
   "cell_type": "code",
   "execution_count": 335,
   "metadata": {},
   "outputs": [
    {
     "name": "stdout",
     "output_type": "stream",
     "text": [
      "Feature max_director_film_votes has a correlation of 0.3860123302327475 w/ revenue\n",
      "Feature director_age has a correlation of 0.11284211655705344 w/ revenue\n",
      "Feature max_director_film_metascore has a correlation of 0.24140120506652551 w/ revenue\n",
      "Feature max_actor_film_votes has a correlation of 0.25868408551082067 w/ revenue\n",
      "Feature max_director_film_revenue has a correlation of 0.4872911739021101 w/ revenue\n",
      "Feature max_actor_film_stars has a correlation of 0.1180772926157062 w/ revenue\n",
      "Feature avg_director_film_votes has a correlation of 0.4079044334109736 w/ revenue\n",
      "Feature max_actor_film_metascore has a correlation of 0.11223079567703426 w/ revenue\n",
      "Feature avg_director_film_metascore has a correlation of 0.22904271874912288 w/ revenue\n",
      "Feature avg_actor_age has a correlation of 0.0019150151753167999 w/ revenue\n",
      "Feature max_actor_film_appearances has a correlation of 0.2969950769811964 w/ revenue\n",
      "Feature avg_actor_film_votes has a correlation of 0.30546322572085477 w/ revenue\n",
      "Feature avg_actor_film_stars has a correlation of 0.06764240331287892 w/ revenue\n",
      "Feature avg_actor_film_revenue has a correlation of 0.41416304026670775 w/ revenue\n",
      "Feature avg_actor_film_appearances has a correlation of 0.20056959516501946 w/ revenue\n",
      "Feature director_number_of_films has a correlation of 0.16378259743459916 w/ revenue\n",
      "Feature budget has a correlation of 0.05063710516769408 w/ revenue\n",
      "Feature length has a correlation of 0.21733789342102297 w/ revenue\n",
      "Feature avg_actor_film_metascore has a correlation of 0.03132238833189106 w/ revenue\n",
      "Feature max_actor_film_revenue has a correlation of 0.34539161116466516 w/ revenue\n",
      "Feature max_director_film_stars has a correlation of 0.22105379224042276 w/ revenue\n",
      "Feature avg_director_film_revenue has a correlation of 0.5018639021777941 w/ revenue\n",
      "Feature avg_director_film_stars has a correlation of 0.21465195840431314 w/ revenue\n",
      "Feature day has a correlation of -0.006332693311317391 w/ revenue\n",
      "Feature weekday has a correlation of -0.0031855874178157387 w/ revenue\n",
      "Feature month has a correlation of 0.04475914323576185 w/ revenue\n"
     ]
    }
   ],
   "source": [
    "# Features correlation with profitable\n",
    "for f in [f for f in X_FEATURES]:\n",
    "    price = films['revenue']\n",
    "    feature = films[f]\n",
    "    print(\"Feature {0} has a correlation of {1} w/ revenue\".format(f, feature.corr(price)))"
   ]
  },
  {
   "cell_type": "code",
   "execution_count": 344,
   "metadata": {},
   "outputs": [
    {
     "name": "stdout",
     "output_type": "stream",
     "text": [
      "Distribution in Training...\n",
      "$30-$530392              955\n",
      "$89446268-$2787965087    951\n",
      "$531997-$7454185         929\n",
      "$26960191-$89431890      925\n",
      "$7460797-$26924656       923\n",
      "Name: revenue_class, dtype: int64\n",
      "\n",
      "Distribution in Testing...\n",
      "$7460797-$26924656       475\n",
      "$26960191-$89431890      473\n",
      "$531997-$7454185         469\n",
      "$89446268-$2787965087    447\n",
      "$30-$530392              444\n",
      "Name: revenue_class, dtype: int64\n"
     ]
    }
   ],
   "source": [
    "# Splitting into Testing and Training for Revenue\n",
    "films_revenue_train, films_revenue_test, revenue_train, revenue_test = train_test_split(films[FEATURES], films[Y_CLASS], test_size=0.33, random_state=42)\n",
    "print('Distribution in Training...')\n",
    "print(revenue_train.value_counts())\n",
    "print('')\n",
    "print('Distribution in Testing...')\n",
    "print(revenue_test.value_counts())"
   ]
  },
  {
   "cell_type": "code",
   "execution_count": 345,
   "metadata": {},
   "outputs": [
    {
     "name": "stdout",
     "output_type": "stream",
     "text": [
      "Distribution in Training...\n",
      "True     2493\n",
      "False    2190\n",
      "Name: profitable, dtype: int64\n",
      "\n",
      "Distribution in Testing...\n",
      "True     1212\n",
      "False    1096\n",
      "Name: profitable, dtype: int64\n"
     ]
    }
   ],
   "source": [
    "# Splitting into Testing and Training for Profitable\n",
    "films_profit_train, films_profit_test, profit_train, profit_test = train_test_split(films[FEATURES], films['profitable'], test_size=0.33, random_state=42)\n",
    "print('Distribution in Training...')\n",
    "print(profit_train.value_counts())\n",
    "print('')\n",
    "print('Distribution in Testing...')\n",
    "print(profit_test.value_counts())"
   ]
  },
  {
   "cell_type": "code",
   "execution_count": 346,
   "metadata": {},
   "outputs": [
    {
     "name": "stdout",
     "output_type": "stream",
     "text": [
      "Imputed 20605 values for 20 features\n",
      "Imputed 20605 values for 20 features\n",
      "Imputed 10087 values for 20 features\n",
      "Imputed 10087 values for 20 features\n"
     ]
    }
   ],
   "source": [
    "# Imputing Missing Values for Agg. Stats\n",
    "## Will take the average for the imputed feature for films in same class\n",
    "drop_columns = [ID_FEATURE, 'profitable', Y_CLASS, Y_FEATURE]\n",
    "\n",
    "def get_imputed_average(df, row, feature, row_cache, feature_cache):\n",
    "    classifier_cache = feature_cache[row[Y_CLASS]]\n",
    "    if feature not in classifier_cache:\n",
    "        non_zero_loc = df.loc[df[feature] > 0]\n",
    "        relv_films = non_zero_loc.loc[~non_zero_loc[ID_FEATURE].isin(row_cache[feature])]\n",
    "        classifier_cache[feature] = relv_films[feature].mean()\n",
    "    row_cache[feature].append(row[ID_FEATURE])\n",
    "    return classifier_cache[feature]\n",
    "\n",
    "for df, drop_columns in [(films_revenue_train, drop_columns), (films_profit_train, drop_columns), \\\n",
    "                         (films_revenue_test, drop_columns), (films_profit_test, drop_columns)]:\n",
    "    IMPUTED_FEATURE_CACHE = {classifier: {} for classifier in REVENUE_CLASSES}\n",
    "    IMPUTED_ROW_CACHE = {feature: [] for feature in IMPUTED_FEATURES}\n",
    "\n",
    "    for feature in IMPUTED_FEATURES:\n",
    "        new_values = [get_imputed_average(df, row, feature, IMPUTED_ROW_CACHE, IMPUTED_FEATURE_CACHE) if row[feature] == 0 else row[feature] for index, row in df.iterrows()]\n",
    "        df[feature] = new_values\n",
    "        \n",
    "    num_imputed_features = len([f for f in IMPUTED_ROW_CACHE if len(IMPUTED_ROW_CACHE[f]) > 0])\n",
    "    num_imputed_rows = sum([len(IMPUTED_ROW_CACHE[f]) for f in IMPUTED_ROW_CACHE])\n",
    "    df.drop(drop_columns, axis=1, inplace=True)\n",
    "    print(\"Imputed {0} values for {1} features\".format(num_imputed_rows, num_imputed_features))"
   ]
  },
  {
   "cell_type": "code",
   "execution_count": 311,
   "metadata": {},
   "outputs": [
    {
     "name": "stdout",
     "output_type": "stream",
     "text": [
      "max_director_film_votes Stats: Len: 4683, Max: 1883351.0, Min: 11.0, Avg: 180910.19249530957, Median: 180910.19249530957\n",
      "director_age Stats: Len: 4683, Max: 103, Min: 0, Avg: 37.259449071108264, Median: 42.0\n",
      "max_director_film_metascore Stats: Len: 4683, Max: 100.0, Min: 11.0, Avg: 69.88755555555555, Median: 69.88755555555555\n",
      "max_actor_film_votes Stats: Len: 4683, Max: 1883351.0, Min: 8.0, Avg: 290573.2680570801, Median: 230370.0\n",
      "max_director_film_revenue Stats: Len: 4683, Max: 2187210904.0, Min: 706.0, Avg: 135434751.3935411, Median: 135434751.39354113\n",
      "max_actor_film_stars Stats: Len: 4683, Max: 9.3, Min: 4.4, Avg: 7.436971606944126, Median: 7.4\n",
      "avg_director_film_votes Stats: Len: 4683, Max: 1387608.0, Min: 11.0, Avg: 83815.05328330206, Median: 83815.05328330207\n",
      "max_actor_film_metascore Stats: Len: 4683, Max: 100.0, Min: 9.0, Avg: 75.71390493114171, Median: 75.71390493114171\n",
      "avg_director_film_metascore Stats: Len: 4683, Max: 100.0, Min: 11.0, Avg: 60.93111111111112, Median: 60.931111111111115\n",
      "avg_actor_age Stats: Len: 4683, Max: 93.0, Min: 14.0, Avg: 40.42576607682348, Median: 40.0\n",
      "max_actor_film_appearances Stats: Len: 4683, Max: 107.0, Min: 1.0, Avg: 24.823819117976267, Median: 24.0\n",
      "avg_actor_film_votes Stats: Len: 4683, Max: 803240.0, Min: 8.0, Avg: 73619.62019758507, Median: 67840.0\n",
      "avg_actor_film_stars Stats: Len: 4683, Max: 8.6, Min: 4.300000000000001, Avg: 6.432401214383032, Median: 6.387690058479532\n",
      "avg_actor_film_revenue Stats: Len: 4683, Max: 591325478.0, Min: 8050.0, Avg: 65049218.7809482, Median: 57661855.0\n",
      "avg_actor_film_appearances Stats: Len: 4683, Max: 40.0, Min: 1.0, Avg: 6.91090217147974, Median: 6.910902171479741\n",
      "director_number_of_films Stats: Len: 4683, Max: 41.0, Min: 1.0, Avg: 4.531332082551595, Median: 4.531332082551595\n",
      "budget Stats: Len: 4683, Max: 30000000000, Min: 90, Avg: 43142629.9331625, Median: 14700000.0\n",
      "length Stats: Len: 4683, Max: 325, Min: 40, Avg: 107.29745889387145, Median: 104.0\n",
      "avg_actor_film_metascore Stats: Len: 4683, Max: 100.0, Min: 9.0, Avg: 57.09884495779654, Median: 57.0\n",
      "max_actor_film_revenue Stats: Len: 4683, Max: 2787965087.0, Min: 8050.0, Avg: 257653142.45280942, Median: 194462834.0\n",
      "max_director_film_stars Stats: Len: 4683, Max: 9.3, Min: 2.2, Avg: 7.235609756097562, Median: 7.235609756097562\n",
      "avg_director_film_revenue Stats: Len: 4683, Max: 944861907.0, Min: 706.0, Avg: 61419779.26849419, Median: 61419779.26849418\n",
      "avg_director_film_stars Stats: Len: 4683, Max: 9.2, Min: 2.2, Avg: 6.69873481421695, Median: 6.698734814216951\n",
      "day Stats: Len: 4683, Max: 31, Min: 1, Avg: 16.152039291052745, Median: 16.0\n",
      "weekday Stats: Len: 4683, Max: 7, Min: 1, Avg: 4.676062353192398, Median: 5.0\n",
      "month Stats: Len: 4683, Max: 12, Min: 1, Avg: 6.737134315609652, Median: 7.0\n",
      "\n"
     ]
    }
   ],
   "source": [
    "# Analyzing feature stats after imputing\n",
    "\n",
    "## Printing stats for other features\n",
    "[print_stats(films_revenue_train, feature) for feature in X_FEATURES]\n",
    "\n",
    "print('')"
   ]
  },
  {
   "cell_type": "code",
   "execution_count": 350,
   "metadata": {},
   "outputs": [
    {
     "name": "stderr",
     "output_type": "stream",
     "text": [
      "/mnt/c/Users/JNorth-Spectre/Documents/Github/bash-sandbox/ds-4400/env/lib/python3.4/site-packages/sklearn/utils/validation.py:475: DataConversionWarning: Data with input dtype int64 was converted to float64 by StandardScaler.\n",
      "  warnings.warn(msg, DataConversionWarning)\n"
     ]
    }
   ],
   "source": [
    "# Feature Standardization\n",
    "SCALERS = { 'revenue': {feature: None for feature in CONT_FEATURES}, 'profit': {feature: None for feature in CONT_FEATURES} }\n",
    "\n",
    "for feature in CONT_FEATURES:\n",
    "    scaler = StandardScaler()\n",
    "    films_revenue_train[feature] = scaler.fit_transform(films_revenue_train[feature].values.reshape(-1, 1))\n",
    "    films_revenue_test[feature] = scaler.transform(films_revenue_test[feature].values.reshape(-1, 1))\n",
    "    SCALERS['revenue'][feature] = scaler\n",
    "    \n",
    "for feature in CONT_FEATURES:\n",
    "    scaler = StandardScaler()\n",
    "    films_profit_train[feature] = scaler.fit_transform(films_profit_train[feature].values.reshape(-1, 1))\n",
    "    films_profit_test[feature] = scaler.transform(films_profit_test[feature].values.reshape(-1, 1))\n",
    "    SCALERS['profit'][feature] = scaler\n",
    "    \n",
    "for feature in [Y_CLASS]:\n",
    "    scaler = LabelEncoder()\n",
    "    revenue_train = scaler.fit_transform(revenue_train)\n",
    "    revenue_test = scaler.transform(revenue_test)\n",
    "    SCALERS['revenue'][feature] = scaler"
   ]
  },
  {
   "cell_type": "code",
   "execution_count": 351,
   "metadata": {},
   "outputs": [
    {
     "data": {
      "text/plain": [
       "RFE(estimator=LogisticRegression(C=1.0, class_weight=None, dual=False, fit_intercept=True,\n",
       "          intercept_scaling=1, max_iter=100, multi_class='ovr', n_jobs=1,\n",
       "          penalty='l2', random_state=None, solver='liblinear', tol=0.0001,\n",
       "          verbose=0, warm_start=False),\n",
       "  n_features_to_select=12, step=1, verbose=0)"
      ]
     },
     "execution_count": 351,
     "metadata": {},
     "output_type": "execute_result"
    }
   ],
   "source": [
    "# LR Training\n",
    "estimator = LogisticRegression()\n",
    "log_reg = RFE(estimator, 12)\n",
    "log_reg.fit(films_profit_train, profit_train)"
   ]
  },
  {
   "cell_type": "code",
   "execution_count": 352,
   "metadata": {},
   "outputs": [
    {
     "name": "stdout",
     "output_type": "stream",
     "text": [
      "Logistic Regression is the blue line with AUC=0.6782750355327505\n"
     ]
    },
    {
     "data": {
      "text/plain": [
       "[<matplotlib.lines.Line2D at 0x7f39fdf73940>]"
      ]
     },
     "execution_count": 352,
     "metadata": {},
     "output_type": "execute_result"
    },
    {
     "data": {
      "image/png": "[encoded data removed]",
      "text/plain": [
       "<Figure size 432x288 with 1 Axes>"
      ]
     },
     "metadata": {
      "needs_background": "light"
     },
     "output_type": "display_data"
    }
   ],
   "source": [
    "# LR ROC Curve\n",
    "predictions = [p[1] for p in log_reg.predict_proba(films_profit_test)]\n",
    "fpr, tpr, threshold = metrics.roc_curve(profit_test, predictions)\n",
    "roc_auc = metrics.auc(fpr, tpr)\n",
    "print(\"{0} is the {1} line with AUC={2}\".format('Logistic Regression', 'blue', roc_auc))\n",
    "pyplot.plot(fpr, tpr, 'blue', label=\"AUC = {0}\".format(roc_auc))"
   ]
  },
  {
   "cell_type": "code",
   "execution_count": 353,
   "metadata": {},
   "outputs": [
    {
     "name": "stdout",
     "output_type": "stream",
     "text": [
      "Confusion Matrix\n",
      "TP: 626, FP: 470, TN: 824, FN: 388\n",
      "[[626 470]\n",
      " [388 824]]\n",
      "Accuracy: 0.6282495667244368, Error: 0.37175043327556323\n",
      "Precision: 0.5711678832116789, Recall: 0.6173570019723866, F1: 0.5933649289099526\n"
     ]
    }
   ],
   "source": [
    "# LR Testing/Metrics\n",
    "predictions = predict(log_reg, films_profit_test, 0.5)\n",
    "print_predict_stats(profit_test, predictions)"
   ]
  },
  {
   "cell_type": "code",
   "execution_count": null,
   "metadata": {},
   "outputs": [],
   "source": [
    "# SVM (SVM)\n",
    "\"\"\"\n",
    "Training a SVM model to predict if a movie will be profitable or not\n",
    "\"\"\""
   ]
  },
  {
   "cell_type": "code",
   "execution_count": 323,
   "metadata": {},
   "outputs": [
    {
     "data": {
      "text/plain": [
       "SVC(C=1.0, cache_size=200, class_weight=None, coef0=0.0,\n",
       "  decision_function_shape='ovr', degree=3, gamma='auto', kernel='rbf',\n",
       "  max_iter=-1, probability=True, random_state=None, shrinking=True,\n",
       "  tol=0.001, verbose=False)"
      ]
     },
     "execution_count": 323,
     "metadata": {},
     "output_type": "execute_result"
    }
   ],
   "source": [
    "# SVM Training\n",
    "svm = SVC(probability=True)\n",
    "svm.fit(films_profit_train, profit_train)"
   ]
  },
  {
   "cell_type": "code",
   "execution_count": 341,
   "metadata": {},
   "outputs": [
    {
     "name": "stdout",
     "output_type": "stream",
     "text": [
      "SVM is the red line with AUC=0.6557448628074485\n"
     ]
    },
    {
     "data": {
      "text/plain": [
       "[<matplotlib.lines.Line2D at 0x7f39fe007588>]"
      ]
     },
     "execution_count": 341,
     "metadata": {},
     "output_type": "execute_result"
    },
    {
     "data": {
      "image/png": "[encoded data removed]",
      "text/plain": [
       "<Figure size 432x288 with 1 Axes>"
      ]
     },
     "metadata": {
      "needs_background": "light"
     },
     "output_type": "display_data"
    }
   ],
   "source": [
    "# SVM ROC Curve\n",
    "predictions = [p[1] for p in svm.predict_proba(films_profit_test)]\n",
    "fpr, tpr, threshold = metrics.roc_curve(profit_test, predictions)\n",
    "roc_auc = metrics.auc(fpr, tpr)\n",
    "print(\"{0} is the {1} line with AUC={2}\".format('SVM', 'red', roc_auc))\n",
    "pyplot.plot(fpr, tpr, 'red', label=\"AUC = {0}\".format(roc_auc))"
   ]
  },
  {
   "cell_type": "code",
   "execution_count": 324,
   "metadata": {},
   "outputs": [
    {
     "name": "stdout",
     "output_type": "stream",
     "text": [
      "Confusion Matrix\n",
      "TP: 546, FP: 550, TN: 875, FN: 337\n",
      "[[546 550]\n",
      " [337 875]]\n",
      "Accuracy: 0.615684575389948, Error: 0.38431542461005197\n",
      "Precision: 0.4981751824817518, Recall: 0.6183465458663646, F1: 0.5517938352703385\n"
     ]
    }
   ],
   "source": [
    "# SVM Testing/Metrics\n",
    "predictions = predict(svm, films_profit_test, 0.5)\n",
    "print_predict_stats(profit_test, predictions)"
   ]
  },
  {
   "cell_type": "code",
   "execution_count": null,
   "metadata": {},
   "outputs": [],
   "source": [
    "# Random Forest (RF)\n",
    "\"\"\"\n",
    "Training a Random Forest to predict what revenue range a film will fall in\n",
    "\"\"\""
   ]
  },
  {
   "cell_type": "code",
   "execution_count": 343,
   "metadata": {},
   "outputs": [
    {
     "name": "stdout",
     "output_type": "stream",
     "text": [
      "Class Mapping:\n",
      "{'$89446268-$2787965087': 4, '$531997-$7454185': 2, '$26960191-$89431890': 0, '$7460797-$26924656': 3, '$30-$530392': 1}\n",
      "\n",
      "Tree Num = 10\n",
      "Testing Stats\n",
      "             precision    recall  f1-score   support\n",
      "\n",
      "          0       0.32      0.45      0.37       473\n",
      "          1       0.50      0.58      0.53       444\n",
      "          2       0.35      0.29      0.31       469\n",
      "          3       0.29      0.18      0.23       475\n",
      "          4       0.60      0.62      0.61       447\n",
      "\n",
      "avg / total       0.41      0.42      0.41      2308\n",
      "\n",
      "\n",
      "Tree Num = 50\n",
      "Testing Stats\n",
      "             precision    recall  f1-score   support\n",
      "\n",
      "          0       0.34      0.39      0.36       473\n",
      "          1       0.56      0.58      0.57       444\n",
      "          2       0.38      0.33      0.35       469\n",
      "          3       0.34      0.29      0.31       475\n",
      "          4       0.62      0.67      0.64       447\n",
      "\n",
      "avg / total       0.44      0.45      0.44      2308\n",
      "\n",
      "\n",
      "Tree Num = 100\n",
      "Testing Stats\n",
      "             precision    recall  f1-score   support\n",
      "\n",
      "          0       0.35      0.37      0.36       473\n",
      "          1       0.56      0.64      0.60       444\n",
      "          2       0.38      0.34      0.36       469\n",
      "          3       0.34      0.27      0.30       475\n",
      "          4       0.61      0.67      0.64       447\n",
      "\n",
      "avg / total       0.44      0.45      0.45      2308\n",
      "\n",
      "\n",
      "Tree Num = 1000\n",
      "Testing Stats\n",
      "             precision    recall  f1-score   support\n",
      "\n",
      "          0       0.33      0.36      0.35       473\n",
      "          1       0.58      0.64      0.61       444\n",
      "          2       0.41      0.36      0.38       469\n",
      "          3       0.34      0.29      0.31       475\n",
      "          4       0.62      0.68      0.65       447\n",
      "\n",
      "avg / total       0.45      0.46      0.46      2308\n",
      "\n",
      "\n"
     ]
    }
   ],
   "source": [
    "# RF Training\n",
    "tree_nums = [10, 50, 100, 1000]\n",
    "le = SCALERS['revenue'][Y_CLASS]\n",
    "class_name_mapping = dict(zip(le.classes_, le.transform(le.classes_)))\n",
    "print('Class Mapping:')\n",
    "print(class_name_mapping)\n",
    "print('')\n",
    "\n",
    "for tree_num in tree_nums:\n",
    "    print(\"Tree Num = {0}\".format(tree_num))\n",
    "    rf = RandomForestClassifier(n_estimators=tree_num)\n",
    "    rf.fit(films_revenue_train, revenue_train)\n",
    "    predictions = rf.predict(films_revenue_test)\n",
    "    print('Testing Stats')\n",
    "    print(metrics.classification_report(revenue_test, predictions))\n",
    "    print('')"
   ]
  }
 ],
 "metadata": {
  "kernelspec": {
   "display_name": "Python 3",
   "language": "python",
   "name": "python3"
  },
  "language_info": {
   "codemirror_mode": {
    "name": "ipython",
    "version": 3
   },
   "file_extension": ".py",
   "mimetype": "text/x-python",
   "name": "python",
   "nbconvert_exporter": "python",
   "pygments_lexer": "ipython3",
   "version": "3.4.3"
  }
 },
 "nbformat": 4,
 "nbformat_minor": 2
}
